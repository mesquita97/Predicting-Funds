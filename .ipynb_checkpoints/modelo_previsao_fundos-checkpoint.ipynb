{
 "cells": [
  {
   "cell_type": "code",
   "execution_count": 1,
   "metadata": {},
   "outputs": [
    {
     "ename": "ModuleNotFoundError",
     "evalue": "No module named 'xgboost'",
     "output_type": "error",
     "traceback": [
      "\u001b[0;31m---------------------------------------------------------------------------\u001b[0m",
      "\u001b[0;31mModuleNotFoundError\u001b[0m                       Traceback (most recent call last)",
      "\u001b[0;32m<ipython-input-1-ae95571a669b>\u001b[0m in \u001b[0;36m<module>\u001b[0;34m\u001b[0m\n\u001b[1;32m      5\u001b[0m \u001b[0;32mimport\u001b[0m \u001b[0mdatetime\u001b[0m\u001b[0;34m\u001b[0m\u001b[0;34m\u001b[0m\u001b[0m\n\u001b[1;32m      6\u001b[0m \u001b[0;32mimport\u001b[0m \u001b[0mnumpy\u001b[0m \u001b[0;32mas\u001b[0m \u001b[0mnp\u001b[0m\u001b[0;34m\u001b[0m\u001b[0;34m\u001b[0m\u001b[0m\n\u001b[0;32m----> 7\u001b[0;31m \u001b[0;32mfrom\u001b[0m \u001b[0mxgboost\u001b[0m \u001b[0;32mimport\u001b[0m \u001b[0mXGBRegressor\u001b[0m\u001b[0;34m\u001b[0m\u001b[0;34m\u001b[0m\u001b[0m\n\u001b[0m\u001b[1;32m      8\u001b[0m \u001b[0;32mimport\u001b[0m \u001b[0msklearn\u001b[0m\u001b[0;34m.\u001b[0m\u001b[0mmodel_selection\u001b[0m \u001b[0;32mas\u001b[0m \u001b[0mms\u001b[0m\u001b[0;34m\u001b[0m\u001b[0;34m\u001b[0m\u001b[0m\n\u001b[1;32m      9\u001b[0m \u001b[0;32mfrom\u001b[0m \u001b[0msklearn\u001b[0m\u001b[0;34m.\u001b[0m\u001b[0mmetrics\u001b[0m \u001b[0;32mimport\u001b[0m \u001b[0mmean_squared_error\u001b[0m\u001b[0;34m,\u001b[0m \u001b[0mr2_score\u001b[0m\u001b[0;34m\u001b[0m\u001b[0;34m\u001b[0m\u001b[0m\n",
      "\u001b[0;31mModuleNotFoundError\u001b[0m: No module named 'xgboost'"
     ]
    }
   ],
   "source": [
    "###### Importacao de Libs Necessárias\n",
    "\n",
    "import pandas as pd\n",
    "from sklearn.model_selection import train_test_split\n",
    "import datetime\n",
    "import numpy as np\n",
    "from xgboost import XGBRegressor\n",
    "import sklearn.model_selection as ms\n",
    "from sklearn.metrics import mean_squared_error, r2_score\n",
    "from sklearn.model_selection import RandomizedSearchCV\n",
    "from sklearn.model_selection import cross_validate\n",
    "import shap\n",
    "\n",
    "\n"
   ]
  },
  {
   "cell_type": "code",
   "execution_count": 14,
   "metadata": {},
   "outputs": [
    {
     "name": "stdout",
     "output_type": "stream",
     "text": [
      "(136294, 66)\n"
     ]
    }
   ],
   "source": [
    "base_full = pd.read_csv('base_final_fundos.csv',sep=\";\",decimal=\",\")\n",
    "print(base_full.shape)"
   ]
  },
  {
   "cell_type": "code",
   "execution_count": 6,
   "metadata": {},
   "outputs": [],
   "source": [
    "base_analise = base_full.drop(columns=['date','cod_cnpj','prim_key','Unnamed: 0', 'Unnamed: 0.1',\n",
    "                                      #'vl_cota_d5','vl_cota_d4','vl_cota_d3','vl_cota_d2','vl_cota_d1'\n",
    "                                      ])\n",
    "\n",
    "\n",
    "# base_analise=base_analise[ ['vl_cota','vl_cota_d3','selic','bovespa','dolar','dow_30','ipca_15','tx_cambio',\n",
    "#                            'netEquity', 'manager.netEquity',\n",
    "#                            'investmentConditions.administrationRate',\n",
    "#                            'investmentConditions.performanceRate', 'is_suggested_0',\n",
    "#                            'is_suggested_1', 'Fundo de Investimento Cambial',\n",
    "#                            'Fundo de Investimento Multimercado',\n",
    "#                            'Fundo de Investimento Renda Fixa', 'Fundo de Investimento em Ações',\n",
    "#                            'Fundo de Investimento no Exterior'] ]\n",
    "# base_analise = base_analise[base_analise['Fundo de Investimento Multimercado']==1]\n",
    "base_analise= base_analise.sample(frac=1)\n",
    "\n",
    "X = base_analise.drop(columns=['vl_cota']).reset_index(drop=True)\n",
    "X = X.apply(pd.to_numeric)\n",
    "Y = base_analise.pop('vl_cota').reset_index(drop=True)\n",
    "Y = Y.apply(pd.to_numeric)\n"
   ]
  },
  {
   "cell_type": "code",
   "execution_count": 7,
   "metadata": {},
   "outputs": [],
   "source": [
    "xgb  = XGBRegressor()\n",
    "params = {'nthread':[4], \n",
    "              #'objective':['reg:linear'],\n",
    "              'learning_rate': [.03, 0.05, .07], #so called `eta` value\n",
    "              'max_depth': [5, 6, 7],\n",
    "              'min_child_weight': [4],\n",
    "              'silent': [1],\n",
    "              'subsample': [0.7],\n",
    "              'colsample_bytree': [0.7],\n",
    "              'n_estimators': [100]}\n",
    "clf = RandomizedSearchCV(xgb, param_distributions=params, n_iter=1, scoring='neg_mean_squared_error', n_jobs=10)\n",
    "\n"
   ]
  },
  {
   "cell_type": "code",
   "execution_count": 8,
   "metadata": {},
   "outputs": [
    {
     "name": "stdout",
     "output_type": "stream",
     "text": [
      "0\n",
      "training...\n"
     ]
    },
    {
     "name": "stderr",
     "output_type": "stream",
     "text": [
      "C:\\Users\\U000960\\AppData\\Local\\Continuum\\anaconda3\\lib\\site-packages\\sklearn\\model_selection\\_split.py:1978: FutureWarning: The default value of cv will change from 3 to 5 in version 0.22. Specify it explicitly to silence this warning.\n",
      "  warnings.warn(CV_WARNING, FutureWarning)\n",
      "C:\\Users\\U000960\\AppData\\Local\\Continuum\\anaconda3\\lib\\site-packages\\xgboost\\core.py:587: FutureWarning: Series.base is deprecated and will be removed in a future version\n",
      "  if getattr(data, 'base', None) is not None and \\\n"
     ]
    },
    {
     "name": "stdout",
     "output_type": "stream",
     "text": [
      "Predict...\n",
      "1\n",
      "training...\n"
     ]
    },
    {
     "name": "stderr",
     "output_type": "stream",
     "text": [
      "C:\\Users\\U000960\\AppData\\Local\\Continuum\\anaconda3\\lib\\site-packages\\sklearn\\model_selection\\_split.py:1978: FutureWarning: The default value of cv will change from 3 to 5 in version 0.22. Specify it explicitly to silence this warning.\n",
      "  warnings.warn(CV_WARNING, FutureWarning)\n",
      "C:\\Users\\U000960\\AppData\\Local\\Continuum\\anaconda3\\lib\\site-packages\\xgboost\\core.py:587: FutureWarning: Series.base is deprecated and will be removed in a future version\n",
      "  if getattr(data, 'base', None) is not None and \\\n"
     ]
    },
    {
     "name": "stdout",
     "output_type": "stream",
     "text": [
      "Predict...\n",
      "2\n",
      "training...\n"
     ]
    },
    {
     "name": "stderr",
     "output_type": "stream",
     "text": [
      "C:\\Users\\U000960\\AppData\\Local\\Continuum\\anaconda3\\lib\\site-packages\\sklearn\\model_selection\\_split.py:1978: FutureWarning: The default value of cv will change from 3 to 5 in version 0.22. Specify it explicitly to silence this warning.\n",
      "  warnings.warn(CV_WARNING, FutureWarning)\n",
      "C:\\Users\\U000960\\AppData\\Local\\Continuum\\anaconda3\\lib\\site-packages\\xgboost\\core.py:587: FutureWarning: Series.base is deprecated and will be removed in a future version\n",
      "  if getattr(data, 'base', None) is not None and \\\n"
     ]
    },
    {
     "name": "stdout",
     "output_type": "stream",
     "text": [
      "Predict...\n",
      "3\n",
      "training...\n"
     ]
    },
    {
     "name": "stderr",
     "output_type": "stream",
     "text": [
      "C:\\Users\\U000960\\AppData\\Local\\Continuum\\anaconda3\\lib\\site-packages\\sklearn\\model_selection\\_split.py:1978: FutureWarning: The default value of cv will change from 3 to 5 in version 0.22. Specify it explicitly to silence this warning.\n",
      "  warnings.warn(CV_WARNING, FutureWarning)\n",
      "C:\\Users\\U000960\\AppData\\Local\\Continuum\\anaconda3\\lib\\site-packages\\xgboost\\core.py:587: FutureWarning: Series.base is deprecated and will be removed in a future version\n",
      "  if getattr(data, 'base', None) is not None and \\\n"
     ]
    },
    {
     "name": "stdout",
     "output_type": "stream",
     "text": [
      "Predict...\n",
      "4\n",
      "training...\n"
     ]
    },
    {
     "name": "stderr",
     "output_type": "stream",
     "text": [
      "C:\\Users\\U000960\\AppData\\Local\\Continuum\\anaconda3\\lib\\site-packages\\sklearn\\model_selection\\_split.py:1978: FutureWarning: The default value of cv will change from 3 to 5 in version 0.22. Specify it explicitly to silence this warning.\n",
      "  warnings.warn(CV_WARNING, FutureWarning)\n",
      "C:\\Users\\U000960\\AppData\\Local\\Continuum\\anaconda3\\lib\\site-packages\\xgboost\\core.py:587: FutureWarning: Series.base is deprecated and will be removed in a future version\n",
      "  if getattr(data, 'base', None) is not None and \\\n"
     ]
    },
    {
     "name": "stdout",
     "output_type": "stream",
     "text": [
      "Predict...\n"
     ]
    }
   ],
   "source": [
    "nfolds = 5\n",
    "cv = ms.KFold(n_splits=nfolds, shuffle=True)\n",
    "estimators = []\n",
    "mses = []\n",
    "train_indexes = {}\n",
    "test_indexes = {}\n",
    "score = 0.0\n",
    "current_fold = 0\n",
    "results = np.zeros(len(X)) #### Resultados das predições\n",
    "\n",
    "\n",
    "for train_index, test_index in cv.split(X):\n",
    "    print(current_fold)\n",
    "    X_train, X_test = X.iloc[train_index], X.iloc[test_index]\n",
    "    y_train, y_test = Y.iloc[train_index], Y.iloc[test_index]\n",
    "    print(\"training...\")\n",
    "    clf.fit(X_train, y_train)\n",
    "    estimators.append(clf.best_estimator_)\n",
    "    print(\"Predict...\")\n",
    "    y_pred = clf.predict(X_test)\n",
    "    #y_pred = [x[1] for x in y_pred]\n",
    "    mses.append(mean_squared_error(y_test, y_pred))\n",
    "    train_indexes.update({str(current_fold): train_index})\n",
    "    test_indexes.update({str(current_fold): test_index})\n",
    "    current_fold+=1"
   ]
  },
  {
   "cell_type": "code",
   "execution_count": 10,
   "metadata": {},
   "outputs": [
    {
     "name": "stdout",
     "output_type": "stream",
     "text": [
      "[3.8221646526554593, 147.58994112629196, 7.7481821093114505, 7.455748105968421, 4.962473649952885]\n",
      "34.315701928836035\n"
     ]
    }
   ],
   "source": [
    "print(mses)\n",
    "print(np.mean(mses))"
   ]
  },
  {
   "cell_type": "code",
   "execution_count": 12,
   "metadata": {},
   "outputs": [
    {
     "data": {
      "text/html": [
       "<div>\n",
       "<style scoped>\n",
       "    .dataframe tbody tr th:only-of-type {\n",
       "        vertical-align: middle;\n",
       "    }\n",
       "\n",
       "    .dataframe tbody tr th {\n",
       "        vertical-align: top;\n",
       "    }\n",
       "\n",
       "    .dataframe thead th {\n",
       "        text-align: right;\n",
       "    }\n",
       "</style>\n",
       "<table border=\"1\" class=\"dataframe\">\n",
       "  <thead>\n",
       "    <tr style=\"text-align: right;\">\n",
       "      <th></th>\n",
       "      <th>feature</th>\n",
       "      <th>importance</th>\n",
       "    </tr>\n",
       "  </thead>\n",
       "  <tbody>\n",
       "    <tr>\n",
       "      <td>1</td>\n",
       "      <td>vl_cota_d2</td>\n",
       "      <td>0.251594</td>\n",
       "    </tr>\n",
       "    <tr>\n",
       "      <td>0</td>\n",
       "      <td>vl_cota_d1</td>\n",
       "      <td>0.238009</td>\n",
       "    </tr>\n",
       "    <tr>\n",
       "      <td>2</td>\n",
       "      <td>vl_cota_d3</td>\n",
       "      <td>0.130498</td>\n",
       "    </tr>\n",
       "    <tr>\n",
       "      <td>43</td>\n",
       "      <td>tx_cambio_d2</td>\n",
       "      <td>0.110964</td>\n",
       "    </tr>\n",
       "    <tr>\n",
       "      <td>3</td>\n",
       "      <td>vl_cota_d4</td>\n",
       "      <td>0.103479</td>\n",
       "    </tr>\n",
       "    <tr>\n",
       "      <td>4</td>\n",
       "      <td>vl_cota_d5</td>\n",
       "      <td>0.0591805</td>\n",
       "    </tr>\n",
       "    <tr>\n",
       "      <td>25</td>\n",
       "      <td>dolar_d2</td>\n",
       "      <td>0.0545456</td>\n",
       "    </tr>\n",
       "    <tr>\n",
       "      <td>8</td>\n",
       "      <td>dolar</td>\n",
       "      <td>0.0192058</td>\n",
       "    </tr>\n",
       "    <tr>\n",
       "      <td>5</td>\n",
       "      <td>vl_cota_d6</td>\n",
       "      <td>0.0188709</td>\n",
       "    </tr>\n",
       "    <tr>\n",
       "      <td>26</td>\n",
       "      <td>dolar_d3</td>\n",
       "      <td>0.00771948</td>\n",
       "    </tr>\n",
       "    <tr>\n",
       "      <td>6</td>\n",
       "      <td>selic</td>\n",
       "      <td>0.00218794</td>\n",
       "    </tr>\n",
       "    <tr>\n",
       "      <td>17</td>\n",
       "      <td>selic_d6</td>\n",
       "      <td>0.00105262</td>\n",
       "    </tr>\n",
       "    <tr>\n",
       "      <td>9</td>\n",
       "      <td>dow_30</td>\n",
       "      <td>0.000626262</td>\n",
       "    </tr>\n",
       "    <tr>\n",
       "      <td>35</td>\n",
       "      <td>dow_30_d6</td>\n",
       "      <td>0.000579223</td>\n",
       "    </tr>\n",
       "    <tr>\n",
       "      <td>14</td>\n",
       "      <td>selic_d3</td>\n",
       "      <td>0.000382283</td>\n",
       "    </tr>\n",
       "  </tbody>\n",
       "</table>\n",
       "</div>"
      ],
      "text/plain": [
       "         feature   importance\n",
       "1     vl_cota_d2     0.251594\n",
       "0     vl_cota_d1     0.238009\n",
       "2     vl_cota_d3     0.130498\n",
       "43  tx_cambio_d2     0.110964\n",
       "3     vl_cota_d4     0.103479\n",
       "4     vl_cota_d5    0.0591805\n",
       "25      dolar_d2    0.0545456\n",
       "8          dolar    0.0192058\n",
       "5     vl_cota_d6    0.0188709\n",
       "26      dolar_d3   0.00771948\n",
       "6          selic   0.00218794\n",
       "17      selic_d6   0.00105262\n",
       "9         dow_30  0.000626262\n",
       "35     dow_30_d6  0.000579223\n",
       "14      selic_d3  0.000382283"
      ]
     },
     "execution_count": 12,
     "metadata": {},
     "output_type": "execute_result"
    }
   ],
   "source": [
    "fts_importance = pd.DataFrame(data = np.transpose(np.array([X.columns , estimators[1].feature_importances_])),\n",
    "                              columns = ['feature','importance'])\n",
    "fts_importance = fts_importance.sort_values(by =  'importance' , ascending = False)\n",
    "fts_importance.head(15)"
   ]
  },
  {
   "cell_type": "code",
   "execution_count": 13,
   "metadata": {},
   "outputs": [
    {
     "data": {
      "image/png": "[encoded data removed]",
      "text/plain": [
       "<Figure size 576x684 with 2 Axes>"
      ]
     },
     "metadata": {
      "needs_background": "light"
     },
     "output_type": "display_data"
    }
   ],
   "source": [
    "test = X.iloc[train_indexes['0']].sample(frac=1)[1:500]\n",
    "explainer = shap.TreeExplainer(estimators[0],feature_dependence='independent')\n",
    "shap_values = explainer.shap_values(test,approximate=True,tree_limit = 50)\n",
    "shap.summary_plot(shap_values, test)\n"
   ]
  }
 ],
 "metadata": {
  "kernelspec": {
   "display_name": "Python 3",
   "language": "python",
   "name": "python3"
  },
  "language_info": {
   "codemirror_mode": {
    "name": "ipython",
    "version": 3
   },
   "file_extension": ".py",
   "mimetype": "text/x-python",
   "name": "python",
   "nbconvert_exporter": "python",
   "pygments_lexer": "ipython3",
   "version": "3.7.4"
  }
 },
 "nbformat": 4,
 "nbformat_minor": 4
}
