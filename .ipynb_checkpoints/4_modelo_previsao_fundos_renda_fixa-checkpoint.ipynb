{
 "cells": [
  {
   "cell_type": "markdown",
   "metadata": {},
   "source": [
    "### Importacao de Libs Necessárias"
   ]
  },
  {
   "cell_type": "code",
   "execution_count": 1,
   "metadata": {},
   "outputs": [],
   "source": [
    "import pandas as pd\n",
    "from sklearn.model_selection import train_test_split\n",
    "import datetime\n",
    "import numpy as np\n",
    "from xgboost import XGBRegressor\n",
    "import sklearn.model_selection as ms\n",
    "from sklearn.metrics import mean_squared_error, r2_score\n",
    "from sklearn.model_selection import RandomizedSearchCV\n",
    "from sklearn.model_selection import cross_validate\n",
    "import shap\n",
    "\n",
    "\n"
   ]
  },
  {
   "cell_type": "markdown",
   "metadata": {},
   "source": [
    "### Funções Auxiliares para trabalhar com Data Frame Específico\n"
   ]
  },
  {
   "cell_type": "code",
   "execution_count": 2,
   "metadata": {},
   "outputs": [],
   "source": [
    "\n",
    "def create_perc_field(df,field_name):\n",
    "    for delay in ['_d5','_d4','_d3','_d2','_d1','']:\n",
    "        df['var_perc_'+field_name+delay]= round( (df[field_name+delay].astype(float)-df[field_name+'_d6'].astype(float))/ df[field_name+delay].astype(float) ,6)\n",
    " \n",
    "    return df\n",
    "\n",
    "def drop_columns(df,col_pref):\n",
    "    to_drop = [idx for idx in df.columns if idx.startswith(col_pref)]\n",
    "    df = df.drop(columns = to_drop)\n",
    "\n",
    "    return df"
   ]
  },
  {
   "cell_type": "markdown",
   "metadata": {},
   "source": [
    "### Adicionando Infos ao Set Inicial e Criando Set que será utilizado em Modelos Individuais de Fundos\n"
   ]
  },
  {
   "cell_type": "code",
   "execution_count": 3,
   "metadata": {},
   "outputs": [],
   "source": [
    "base_full = pd.read_csv('base_final_fundos.csv',sep=\";\",decimal=\",\")\n",
    "base_full = base_full.sort_values(['cod_cnpj','date'],ascending = [True,True])\n",
    "\n",
    "indices = ['selic','bovespa','dolar','dow_30','ipca_15','tx_cambio']\n",
    "var_perc_indices_d0 = ['var_perc_' +s for s in indices]\n",
    "\n",
    "#### Criando Colunas de Variacoes Percentuais dos indices\n",
    "for field in indices:\n",
    "    base_full = create_perc_field(base_full,field)\n",
    "\n",
    "#### Criando colunas de Variacoes Percentuais das cotas\n",
    "\n",
    "base_full = create_perc_field(base_full,'vl_cota')\n",
    "    \n",
    "#### Dropando Valor dos Indices em D+0 (Percentual e Normal)\n",
    "base_analise = base_full.drop(columns = indices)\n",
    "base_analise = base_analise.drop(columns = var_perc_indices_d0 )\n",
    "\n",
    "\n",
    "#### Dropando Valor das cotas da analise - Trabalhando Apenas com variações percentuais\n",
    "\n",
    "base_analise = drop_columns(base_analise,'vl_cota')\n",
    "\n",
    "##### Dropando Outras colunas adicionais \n",
    "\n",
    "base_analise = base_analise.drop(columns = ['Unnamed: 0', 'Unnamed: 0.1','prim_key'])\n",
    "\n",
    "\n",
    "\n"
   ]
  },
  {
   "cell_type": "markdown",
   "metadata": {},
   "source": [
    "### Descrição da análise realizada:\n",
    "\n",
    "##### Utilizaremos o XGBoost para realizar regressões tentando prever a variação percentual do valor cota de fundos de renda fixa em relação ao valor de 6 dias. Serão Realizadas 3 análises:\n",
    "\n",
    "##### - Regressão utilizando os valores das variações percentuais dos  dias anteriores ( sempre com base no valor da cota há seis dias atrás)\n",
    "##### - Regressão anterior, excluindo os valores das variações percentuais dos dias anteriores (puramente com base no uso de indicadores)\n",
    "##### - Rgressão anterior, excluindo os valores brutos dos índices de mercado \n",
    "\n",
    "\n",
    "##### Em cada análise iremos dividir a base em 6 folds . Os 5 primeiros serão utilizados em um cross validation, para verificar se não há uma variação muito abrupta do erro médio quadrático. Uma vez validado, o sexto fold será utilizado para métrica de acurácia final do modelo.\n",
    "\n",
    "##### Além do XGBoost, será utilizad a função RandomizedSearchCV. Ela realiza a estimativa dos melhores parâmetros do XGBoost  dentro uma lista de parâmetros específicos passados, com base num score pré definido. Neste Caso utilizaremos o erro médio quadrático"
   ]
  },
  {
   "cell_type": "code",
   "execution_count": 16,
   "metadata": {},
   "outputs": [],
   "source": [
    "##### Parametros do XGboost utilizados na análise:\n",
    "\n",
    "xgb  = XGBRegressor()\n",
    "params = {'nthread':[4], \n",
    "              'learning_rate': [.03, 0.05, .07], #so called `eta` value\n",
    "              'max_depth': [5, 6, 7],\n",
    "              'min_child_weight': [4],\n",
    "              'silent': [1],\n",
    "              'subsample': [0.7],\n",
    "              'colsample_bytree': [0.7],\n",
    "              'n_estimators': [100]}\n",
    "clf = RandomizedSearchCV(xgb, param_distributions=params, n_iter=1, scoring='neg_mean_squared_error', n_jobs=10)"
   ]
  },
  {
   "cell_type": "markdown",
   "metadata": {},
   "source": [
    "### Análise para Fundos de  Renda Fixa - Análise com Indicadores"
   ]
  },
  {
   "cell_type": "markdown",
   "metadata": {},
   "source": [
    "##### Filtrando Base, Ordenando por Data e Fazendo a separação de folds "
   ]
  },
  {
   "cell_type": "code",
   "execution_count": 17,
   "metadata": {},
   "outputs": [],
   "source": [
    "##### Filtrando Base e Excluindo Colunas que não serão utilizadas\n",
    "base_analise_model =  base_analise[base_analise['Fundo de Investimento Renda Fixa']==1]\n",
    "base_analise_model = drop_columns(base_analise_model,'Fundo de')\n",
    "base_analise_model= base_analise_model.sort_values(['cod_cnpj','date'],ascending = [True,True]).reset_index(drop=True)\n",
    "\n",
    "base_analise_model= base_analise_model.drop(columns = ['cod_cnpj','date'])\n",
    "\n",
    "X = base_analise_model.drop(columns=['var_perc_vl_cota'])\n",
    "X = X.apply(pd.to_numeric)\n",
    "Y = base_analise_model.pop('var_perc_vl_cota')\n",
    "Y = Y.apply(pd.to_numeric)\n",
    "\n",
    "##### Separando a base de validação da base geral\n",
    "\n",
    "nfolds = 6\n",
    "cv = ms.KFold(n_splits=nfolds,shuffle= False)\n",
    "current_fold = 0\n",
    "indexes = {}\n",
    "for index_test,index_train in cv.split(X):\n",
    "    indexes.update({str(current_fold): index_train})\n",
    "    current_fold+=1\n",
    "    \n",
    "##### Separando ultimo fold para validação     \n",
    "\n",
    "X_validation = X.iloc[indexes['5']]\n",
    "X_model = X[~X.index.isin(indexes['5'])]\n",
    "\n",
    "Y_validation = Y.iloc[indexes['5']]\n",
    "Y_model = Y[~X.index.isin(indexes['5'])]\n",
    "\n",
    "\n"
   ]
  },
  {
   "cell_type": "markdown",
   "metadata": {},
   "source": [
    "##### Realizando Cross Validation do Modelo "
   ]
  },
  {
   "cell_type": "code",
   "execution_count": 18,
   "metadata": {},
   "outputs": [
    {
     "name": "stdout",
     "output_type": "stream",
     "text": [
      "0\n",
      "training...\n"
     ]
    },
    {
     "name": "stderr",
     "output_type": "stream",
     "text": [
      "C:\\Users\\U000960\\AppData\\Local\\Continuum\\anaconda3\\lib\\site-packages\\sklearn\\model_selection\\_split.py:1978: FutureWarning: The default value of cv will change from 3 to 5 in version 0.22. Specify it explicitly to silence this warning.\n",
      "  warnings.warn(CV_WARNING, FutureWarning)\n",
      "C:\\Users\\U000960\\AppData\\Local\\Continuum\\anaconda3\\lib\\site-packages\\xgboost\\core.py:587: FutureWarning: Series.base is deprecated and will be removed in a future version\n",
      "  if getattr(data, 'base', None) is not None and \\\n"
     ]
    },
    {
     "name": "stdout",
     "output_type": "stream",
     "text": [
      "Predict...\n",
      "1\n",
      "training...\n"
     ]
    },
    {
     "name": "stderr",
     "output_type": "stream",
     "text": [
      "C:\\Users\\U000960\\AppData\\Local\\Continuum\\anaconda3\\lib\\site-packages\\sklearn\\model_selection\\_split.py:1978: FutureWarning: The default value of cv will change from 3 to 5 in version 0.22. Specify it explicitly to silence this warning.\n",
      "  warnings.warn(CV_WARNING, FutureWarning)\n",
      "C:\\Users\\U000960\\AppData\\Local\\Continuum\\anaconda3\\lib\\site-packages\\xgboost\\core.py:587: FutureWarning: Series.base is deprecated and will be removed in a future version\n",
      "  if getattr(data, 'base', None) is not None and \\\n"
     ]
    },
    {
     "name": "stdout",
     "output_type": "stream",
     "text": [
      "Predict...\n",
      "2\n",
      "training...\n"
     ]
    },
    {
     "name": "stderr",
     "output_type": "stream",
     "text": [
      "C:\\Users\\U000960\\AppData\\Local\\Continuum\\anaconda3\\lib\\site-packages\\sklearn\\model_selection\\_split.py:1978: FutureWarning: The default value of cv will change from 3 to 5 in version 0.22. Specify it explicitly to silence this warning.\n",
      "  warnings.warn(CV_WARNING, FutureWarning)\n",
      "C:\\Users\\U000960\\AppData\\Local\\Continuum\\anaconda3\\lib\\site-packages\\xgboost\\core.py:587: FutureWarning: Series.base is deprecated and will be removed in a future version\n",
      "  if getattr(data, 'base', None) is not None and \\\n"
     ]
    },
    {
     "name": "stdout",
     "output_type": "stream",
     "text": [
      "Predict...\n",
      "3\n",
      "training...\n"
     ]
    },
    {
     "name": "stderr",
     "output_type": "stream",
     "text": [
      "C:\\Users\\U000960\\AppData\\Local\\Continuum\\anaconda3\\lib\\site-packages\\sklearn\\model_selection\\_split.py:1978: FutureWarning: The default value of cv will change from 3 to 5 in version 0.22. Specify it explicitly to silence this warning.\n",
      "  warnings.warn(CV_WARNING, FutureWarning)\n",
      "C:\\Users\\U000960\\AppData\\Local\\Continuum\\anaconda3\\lib\\site-packages\\xgboost\\core.py:587: FutureWarning: Series.base is deprecated and will be removed in a future version\n",
      "  if getattr(data, 'base', None) is not None and \\\n"
     ]
    },
    {
     "name": "stdout",
     "output_type": "stream",
     "text": [
      "Predict...\n",
      "4\n",
      "training...\n"
     ]
    },
    {
     "name": "stderr",
     "output_type": "stream",
     "text": [
      "C:\\Users\\U000960\\AppData\\Local\\Continuum\\anaconda3\\lib\\site-packages\\sklearn\\model_selection\\_split.py:1978: FutureWarning: The default value of cv will change from 3 to 5 in version 0.22. Specify it explicitly to silence this warning.\n",
      "  warnings.warn(CV_WARNING, FutureWarning)\n",
      "C:\\Users\\U000960\\AppData\\Local\\Continuum\\anaconda3\\lib\\site-packages\\xgboost\\core.py:587: FutureWarning: Series.base is deprecated and will be removed in a future version\n",
      "  if getattr(data, 'base', None) is not None and \\\n"
     ]
    },
    {
     "name": "stdout",
     "output_type": "stream",
     "text": [
      "Predict...\n"
     ]
    }
   ],
   "source": [
    "nfolds = 5\n",
    "cv = ms.KFold(n_splits=nfolds,shuffle= False)\n",
    "estimators = []\n",
    "mses = []\n",
    "train_indexes = {}\n",
    "current_fold = 0\n",
    "\n",
    "\n",
    "for train_index, test_index in cv.split(X_model):\n",
    "    print(current_fold)\n",
    "    X_train, X_test = X.iloc[train_index], X.iloc[test_index]\n",
    "    y_train, y_test = Y.iloc[train_index], Y.iloc[test_index]\n",
    "    print(\"training...\")\n",
    "    clf.fit(X_train, y_train)\n",
    "    estimators.append(clf.best_estimator_)\n",
    "    print(\"Predict...\")\n",
    "    y_pred = clf.predict(X_test)\n",
    "    mses.append(mean_squared_error(y_test, y_pred))\n",
    "    current_fold+=1"
   ]
  },
  {
   "cell_type": "markdown",
   "metadata": {},
   "source": [
    "##### Resultados do Cross Validation"
   ]
  },
  {
   "cell_type": "code",
   "execution_count": 21,
   "metadata": {},
   "outputs": [
    {
     "name": "stdout",
     "output_type": "stream",
     "text": [
      "mse:  [4.334653388242927e-07, 0.0005621917117437094, 3.439688710534474e-06, 1.1362636195765312e-05, 0.0005659853605452535]\n",
      "valor médio:  0.00022868257250681742\n",
      "desvio padrão:  0.00027388372829181595\n"
     ]
    }
   ],
   "source": [
    "print('mse: ', mses )\n",
    "print('valor médio: ',np.mean(mses))\n",
    "print('desvio padrão: ',np.std(mses))"
   ]
  },
  {
   "cell_type": "markdown",
   "metadata": {},
   "source": [
    "##### Uma vez que tivemos um resultado satisfatório para o cross validation, sem muita variação entre os folds vamos utilizar todos para rodar um modelo final e verificar o seu erro médio quadrático.\n",
    "\n"
   ]
  },
  {
   "cell_type": "code",
   "execution_count": 22,
   "metadata": {},
   "outputs": [
    {
     "name": "stderr",
     "output_type": "stream",
     "text": [
      "C:\\Users\\U000960\\AppData\\Local\\Continuum\\anaconda3\\lib\\site-packages\\sklearn\\model_selection\\_split.py:1978: FutureWarning: The default value of cv will change from 3 to 5 in version 0.22. Specify it explicitly to silence this warning.\n",
      "  warnings.warn(CV_WARNING, FutureWarning)\n",
      "C:\\Users\\U000960\\AppData\\Local\\Continuum\\anaconda3\\lib\\site-packages\\xgboost\\core.py:587: FutureWarning: Series.base is deprecated and will be removed in a future version\n",
      "  if getattr(data, 'base', None) is not None and \\\n"
     ]
    },
    {
     "name": "stdout",
     "output_type": "stream",
     "text": [
      "Erro Médio Quadrático Final:  0.0005694056403067869\n"
     ]
    }
   ],
   "source": [
    "X_train, X_test = X_model, X_validation\n",
    "y_train, y_test = Y_model, Y_validation\n",
    "clf.fit(X_train, y_train)\n",
    "final_model = clf.best_estimator_\n",
    "y_pred = clf.predict(X_test)\n",
    "print('Erro Médio Quadrático Final: ', mean_squared_error(y_test, y_pred))"
   ]
  },
  {
   "cell_type": "markdown",
   "metadata": {},
   "source": [
    "##### Os fundos de renda fixa foram os que tiveram o melhor valor da predição. Em geral esses fundos são os menos voláteis, dado que os menos investem em tesouro e produtos com garantias do FGC, dentre outros ativos\n",
    "\n",
    "\n",
    "##### Vamos verificar agora como as variáveis explicam ao modelo. Inicialmente utilizaremos o features_importance do XGBoost"
   ]
  },
  {
   "cell_type": "code",
   "execution_count": 23,
   "metadata": {},
   "outputs": [
    {
     "data": {
      "text/html": [
       "<div>\n",
       "<style scoped>\n",
       "    .dataframe tbody tr th:only-of-type {\n",
       "        vertical-align: middle;\n",
       "    }\n",
       "\n",
       "    .dataframe tbody tr th {\n",
       "        vertical-align: top;\n",
       "    }\n",
       "\n",
       "    .dataframe thead th {\n",
       "        text-align: right;\n",
       "    }\n",
       "</style>\n",
       "<table border=\"1\" class=\"dataframe\">\n",
       "  <thead>\n",
       "    <tr style=\"text-align: right;\">\n",
       "      <th></th>\n",
       "      <th>feature</th>\n",
       "      <th>importance</th>\n",
       "    </tr>\n",
       "  </thead>\n",
       "  <tbody>\n",
       "    <tr>\n",
       "      <td>77</td>\n",
       "      <td>var_perc_vl_cota_d1</td>\n",
       "      <td>0.218811</td>\n",
       "    </tr>\n",
       "    <tr>\n",
       "      <td>76</td>\n",
       "      <td>var_perc_vl_cota_d2</td>\n",
       "      <td>0.131812</td>\n",
       "    </tr>\n",
       "    <tr>\n",
       "      <td>18</td>\n",
       "      <td>dow_30_d1</td>\n",
       "      <td>0.107958</td>\n",
       "    </tr>\n",
       "    <tr>\n",
       "      <td>75</td>\n",
       "      <td>var_perc_vl_cota_d3</td>\n",
       "      <td>0.0865242</td>\n",
       "    </tr>\n",
       "    <tr>\n",
       "      <td>27</td>\n",
       "      <td>ipca_15_d4</td>\n",
       "      <td>0.0791974</td>\n",
       "    </tr>\n",
       "    <tr>\n",
       "      <td>14</td>\n",
       "      <td>dolar_d3</td>\n",
       "      <td>0.0722897</td>\n",
       "    </tr>\n",
       "    <tr>\n",
       "      <td>17</td>\n",
       "      <td>dolar_d6</td>\n",
       "      <td>0.0677383</td>\n",
       "    </tr>\n",
       "    <tr>\n",
       "      <td>0</td>\n",
       "      <td>selic_d1</td>\n",
       "      <td>0.0645637</td>\n",
       "    </tr>\n",
       "    <tr>\n",
       "      <td>54</td>\n",
       "      <td>var_perc_dolar_d4</td>\n",
       "      <td>0.0575203</td>\n",
       "    </tr>\n",
       "    <tr>\n",
       "      <td>13</td>\n",
       "      <td>dolar_d2</td>\n",
       "      <td>0.037274</td>\n",
       "    </tr>\n",
       "  </tbody>\n",
       "</table>\n",
       "</div>"
      ],
      "text/plain": [
       "                feature importance\n",
       "77  var_perc_vl_cota_d1   0.218811\n",
       "76  var_perc_vl_cota_d2   0.131812\n",
       "18            dow_30_d1   0.107958\n",
       "75  var_perc_vl_cota_d3  0.0865242\n",
       "27           ipca_15_d4  0.0791974\n",
       "14             dolar_d3  0.0722897\n",
       "17             dolar_d6  0.0677383\n",
       "0              selic_d1  0.0645637\n",
       "54    var_perc_dolar_d4  0.0575203\n",
       "13             dolar_d2   0.037274"
      ]
     },
     "execution_count": 23,
     "metadata": {},
     "output_type": "execute_result"
    }
   ],
   "source": [
    "fts_importance = pd.DataFrame(data = np.transpose(np.array([X_validation.columns , final_model.feature_importances_])),\n",
    "                              columns = ['feature','importance'])\n",
    "fts_importance = fts_importance.sort_values(by =  'importance' , ascending = False)\n",
    "fts_importance.head(10)"
   ]
  },
  {
   "cell_type": "markdown",
   "metadata": {},
   "source": [
    "#### Agora vamos utilizar o shap para visualizar a importancia dos valores das features no modelo"
   ]
  },
  {
   "cell_type": "code",
   "execution_count": 24,
   "metadata": {},
   "outputs": [
    {
     "data": {
      "image/png": "[encoded data removed]",
      "text/plain": [
       "<Figure size 576x684 with 2 Axes>"
      ]
     },
     "metadata": {
      "needs_background": "light"
     },
     "output_type": "display_data"
    }
   ],
   "source": [
    "test = X_validation.sample(frac=1)[1:500]\n",
    "explainer = shap.TreeExplainer(final_model,feature_dependence='independent')\n",
    "shap_values = explainer.shap_values(test,approximate=True,tree_limit = 50)\n",
    "shap.summary_plot(shap_values, test)\n"
   ]
  },
  {
   "cell_type": "markdown",
   "metadata": {},
   "source": [
    "##### Assim como no caso dos fundos de ação, o valor das cotas acaba sendo um preditor muito superior do que o valor do índices propriamente dito. Vamos excluir a mesma do modelo e rodá-lo novamente, com as mesmas premissas:"
   ]
  },
  {
   "cell_type": "code",
   "execution_count": 25,
   "metadata": {},
   "outputs": [
    {
     "name": "stdout",
     "output_type": "stream",
     "text": [
      "0\n",
      "training...\n"
     ]
    },
    {
     "name": "stderr",
     "output_type": "stream",
     "text": [
      "C:\\Users\\U000960\\AppData\\Local\\Continuum\\anaconda3\\lib\\site-packages\\sklearn\\model_selection\\_split.py:1978: FutureWarning: The default value of cv will change from 3 to 5 in version 0.22. Specify it explicitly to silence this warning.\n",
      "  warnings.warn(CV_WARNING, FutureWarning)\n",
      "C:\\Users\\U000960\\AppData\\Local\\Continuum\\anaconda3\\lib\\site-packages\\xgboost\\core.py:587: FutureWarning: Series.base is deprecated and will be removed in a future version\n",
      "  if getattr(data, 'base', None) is not None and \\\n"
     ]
    },
    {
     "name": "stdout",
     "output_type": "stream",
     "text": [
      "Predict...\n",
      "1\n",
      "training...\n"
     ]
    },
    {
     "name": "stderr",
     "output_type": "stream",
     "text": [
      "C:\\Users\\U000960\\AppData\\Local\\Continuum\\anaconda3\\lib\\site-packages\\sklearn\\model_selection\\_split.py:1978: FutureWarning: The default value of cv will change from 3 to 5 in version 0.22. Specify it explicitly to silence this warning.\n",
      "  warnings.warn(CV_WARNING, FutureWarning)\n",
      "C:\\Users\\U000960\\AppData\\Local\\Continuum\\anaconda3\\lib\\site-packages\\xgboost\\core.py:587: FutureWarning: Series.base is deprecated and will be removed in a future version\n",
      "  if getattr(data, 'base', None) is not None and \\\n"
     ]
    },
    {
     "name": "stdout",
     "output_type": "stream",
     "text": [
      "Predict...\n",
      "2\n",
      "training...\n"
     ]
    },
    {
     "name": "stderr",
     "output_type": "stream",
     "text": [
      "C:\\Users\\U000960\\AppData\\Local\\Continuum\\anaconda3\\lib\\site-packages\\sklearn\\model_selection\\_split.py:1978: FutureWarning: The default value of cv will change from 3 to 5 in version 0.22. Specify it explicitly to silence this warning.\n",
      "  warnings.warn(CV_WARNING, FutureWarning)\n",
      "C:\\Users\\U000960\\AppData\\Local\\Continuum\\anaconda3\\lib\\site-packages\\xgboost\\core.py:587: FutureWarning: Series.base is deprecated and will be removed in a future version\n",
      "  if getattr(data, 'base', None) is not None and \\\n"
     ]
    },
    {
     "name": "stdout",
     "output_type": "stream",
     "text": [
      "Predict...\n",
      "3\n",
      "training...\n"
     ]
    },
    {
     "name": "stderr",
     "output_type": "stream",
     "text": [
      "C:\\Users\\U000960\\AppData\\Local\\Continuum\\anaconda3\\lib\\site-packages\\sklearn\\model_selection\\_split.py:1978: FutureWarning: The default value of cv will change from 3 to 5 in version 0.22. Specify it explicitly to silence this warning.\n",
      "  warnings.warn(CV_WARNING, FutureWarning)\n",
      "C:\\Users\\U000960\\AppData\\Local\\Continuum\\anaconda3\\lib\\site-packages\\xgboost\\core.py:587: FutureWarning: Series.base is deprecated and will be removed in a future version\n",
      "  if getattr(data, 'base', None) is not None and \\\n"
     ]
    },
    {
     "name": "stdout",
     "output_type": "stream",
     "text": [
      "Predict...\n",
      "4\n",
      "training...\n"
     ]
    },
    {
     "name": "stderr",
     "output_type": "stream",
     "text": [
      "C:\\Users\\U000960\\AppData\\Local\\Continuum\\anaconda3\\lib\\site-packages\\sklearn\\model_selection\\_split.py:1978: FutureWarning: The default value of cv will change from 3 to 5 in version 0.22. Specify it explicitly to silence this warning.\n",
      "  warnings.warn(CV_WARNING, FutureWarning)\n",
      "C:\\Users\\U000960\\AppData\\Local\\Continuum\\anaconda3\\lib\\site-packages\\xgboost\\core.py:587: FutureWarning: Series.base is deprecated and will be removed in a future version\n",
      "  if getattr(data, 'base', None) is not None and \\\n"
     ]
    },
    {
     "name": "stdout",
     "output_type": "stream",
     "text": [
      "Predict...\n",
      "mse:  [9.062462671812433e-06, 0.0005621917117437094, 0.00056798582291974, 2.224020258862098e-06, 0.0005659853605452535]\n",
      "valor médio:  0.00034148987562787554\n",
      "desvio padrão:  0.00027423247176684137\n"
     ]
    }
   ],
   "source": [
    "X_validation,X_model = drop_columns(X_validation,'var_perc_vl_cota'), drop_columns(X_model,'var_perc_vl_cota')\n",
    "\n",
    "# nfolds = 5\n",
    "# cv = ms.KFold(n_splits=nfolds,shuffle= False)\n",
    "# estimators = []\n",
    "# mses = []\n",
    "# train_indexes = {}\n",
    "# current_fold = 0\n",
    "\n",
    "\n",
    "# for train_index, test_index in cv.split(X_model):\n",
    "#     print(current_fold)\n",
    "#     X_train, X_test = X.iloc[train_index], X.iloc[test_index]\n",
    "#     y_train, y_test = Y.iloc[train_index], Y.iloc[test_index]\n",
    "#     print(\"training...\")\n",
    "#     clf.fit(X_train, y_train)\n",
    "#     estimators.append(clf.best_estimator_)\n",
    "#     print(\"Predict...\")\n",
    "#     y_pred = clf.predict(X_test)\n",
    "#     mses.append(mean_squared_error(y_test, y_pred))\n",
    "#     current_fold+=1\n",
    "\n",
    "# print('mse: ', mses )\n",
    "# print('valor médio: ',np.mean(mses))\n",
    "# print('desvio padrão: ',np.std(mses))    "
   ]
  },
  {
   "cell_type": "markdown",
   "metadata": {},
   "source": [
    "##### De forma análoga ao caso de fundos de ação, temos um preditor razoável , mesmo eliminando os valores das cotas propriamente dito. Vamos agora avaliar o mse final do modelo e a importância das features"
   ]
  },
  {
   "cell_type": "code",
   "execution_count": 31,
   "metadata": {},
   "outputs": [
    {
     "name": "stderr",
     "output_type": "stream",
     "text": [
      "C:\\Users\\U000960\\AppData\\Local\\Continuum\\anaconda3\\lib\\site-packages\\sklearn\\model_selection\\_split.py:1978: FutureWarning: The default value of cv will change from 3 to 5 in version 0.22. Specify it explicitly to silence this warning.\n",
      "  warnings.warn(CV_WARNING, FutureWarning)\n",
      "C:\\Users\\U000960\\AppData\\Local\\Continuum\\anaconda3\\lib\\site-packages\\xgboost\\core.py:587: FutureWarning: Series.base is deprecated and will be removed in a future version\n",
      "  if getattr(data, 'base', None) is not None and \\\n"
     ]
    },
    {
     "name": "stdout",
     "output_type": "stream",
     "text": [
      "Erro Médio Quadrático Final:  0.0005720135538595356\n"
     ]
    }
   ],
   "source": [
    "X_train, X_test = X_model, X_validation\n",
    "y_train, y_test = Y_model, Y_validation\n",
    "clf.fit(X_train, y_train)\n",
    "final_model = clf.best_estimator_\n",
    "y_pred = clf.predict(X_test)\n",
    "print('Erro Médio Quadrático Final: ', mean_squared_error(y_test, y_pred))"
   ]
  },
  {
   "cell_type": "code",
   "execution_count": 29,
   "metadata": {},
   "outputs": [
    {
     "data": {
      "text/html": [
       "<div>\n",
       "<style scoped>\n",
       "    .dataframe tbody tr th:only-of-type {\n",
       "        vertical-align: middle;\n",
       "    }\n",
       "\n",
       "    .dataframe tbody tr th {\n",
       "        vertical-align: top;\n",
       "    }\n",
       "\n",
       "    .dataframe thead th {\n",
       "        text-align: right;\n",
       "    }\n",
       "</style>\n",
       "<table border=\"1\" class=\"dataframe\">\n",
       "  <thead>\n",
       "    <tr style=\"text-align: right;\">\n",
       "      <th></th>\n",
       "      <th>feature</th>\n",
       "      <th>importance</th>\n",
       "    </tr>\n",
       "  </thead>\n",
       "  <tbody>\n",
       "    <tr>\n",
       "      <td>35</td>\n",
       "      <td>tx_cambio_d6</td>\n",
       "      <td>0.0399081</td>\n",
       "    </tr>\n",
       "    <tr>\n",
       "      <td>13</td>\n",
       "      <td>dolar_d2</td>\n",
       "      <td>0.0379251</td>\n",
       "    </tr>\n",
       "    <tr>\n",
       "      <td>37</td>\n",
       "      <td>netEquity</td>\n",
       "      <td>0.0299041</td>\n",
       "    </tr>\n",
       "    <tr>\n",
       "      <td>33</td>\n",
       "      <td>tx_cambio_d4</td>\n",
       "      <td>0.0295577</td>\n",
       "    </tr>\n",
       "    <tr>\n",
       "      <td>34</td>\n",
       "      <td>tx_cambio_d5</td>\n",
       "      <td>0.027557</td>\n",
       "    </tr>\n",
       "    <tr>\n",
       "      <td>71</td>\n",
       "      <td>var_perc_tx_cambio_d2</td>\n",
       "      <td>0.0264687</td>\n",
       "    </tr>\n",
       "    <tr>\n",
       "      <td>15</td>\n",
       "      <td>dolar_d4</td>\n",
       "      <td>0.0259877</td>\n",
       "    </tr>\n",
       "    <tr>\n",
       "      <td>19</td>\n",
       "      <td>dow_30_d2</td>\n",
       "      <td>0.0247351</td>\n",
       "    </tr>\n",
       "    <tr>\n",
       "      <td>58</td>\n",
       "      <td>var_perc_dow_30_d5</td>\n",
       "      <td>0.0246935</td>\n",
       "    </tr>\n",
       "    <tr>\n",
       "      <td>31</td>\n",
       "      <td>tx_cambio_d2</td>\n",
       "      <td>0.0241094</td>\n",
       "    </tr>\n",
       "  </tbody>\n",
       "</table>\n",
       "</div>"
      ],
      "text/plain": [
       "                  feature importance\n",
       "35           tx_cambio_d6  0.0399081\n",
       "13               dolar_d2  0.0379251\n",
       "37              netEquity  0.0299041\n",
       "33           tx_cambio_d4  0.0295577\n",
       "34           tx_cambio_d5   0.027557\n",
       "71  var_perc_tx_cambio_d2  0.0264687\n",
       "15               dolar_d4  0.0259877\n",
       "19              dow_30_d2  0.0247351\n",
       "58     var_perc_dow_30_d5  0.0246935\n",
       "31           tx_cambio_d2  0.0241094"
      ]
     },
     "execution_count": 29,
     "metadata": {},
     "output_type": "execute_result"
    }
   ],
   "source": [
    "fts_importance = pd.DataFrame(data = np.transpose(np.array([X_model.columns , final_model.feature_importances_])),\n",
    "                              columns = ['feature','importance'])\n",
    "fts_importance = fts_importance.sort_values(by =  'importance' , ascending = False)\n",
    "fts_importance.head(10)"
   ]
  },
  {
   "cell_type": "code",
   "execution_count": 30,
   "metadata": {},
   "outputs": [
    {
     "data": {
      "image/png": "[encoded data removed]",
      "text/plain": [
       "<Figure size 576x684 with 2 Axes>"
      ]
     },
     "metadata": {
      "needs_background": "light"
     },
     "output_type": "display_data"
    }
   ],
   "source": [
    "test = X_validation.sample(frac=1)[1:2000]\n",
    "explainer = shap.TreeExplainer(final_model,feature_dependence='independent')\n",
    "shap_values = explainer.shap_values(test,approximate=True,tree_limit = 50)\n",
    "shap.summary_plot(shap_values, test)"
   ]
  },
  {
   "cell_type": "markdown",
   "metadata": {},
   "source": [
    "##### Diferente dos outros fundos, no caso de fundos de renda fixa a variação nos valores dos índices não pareceu ser um bom preditor para o modelo. No caso, os valores dos índices ditas se mostraram preditores superiores. Vamos tentar rodar o modelo novamente sem esses valores e verificar os resultados obtidos:"
   ]
  },
  {
   "cell_type": "code",
   "execution_count": 27,
   "metadata": {},
   "outputs": [
    {
     "data": {
      "image/png": "[encoded data removed]",
      "text/plain": [
       "<Figure size 540x360 with 2 Axes>"
      ]
     },
     "metadata": {
      "needs_background": "light"
     },
     "output_type": "display_data"
    }
   ],
   "source": [
    "shap.dependence_plot('investmentConditions.administrationRate', shap_values, test)"
   ]
  },
  {
   "cell_type": "code",
   "execution_count": 33,
   "metadata": {},
   "outputs": [],
   "source": [
    "for indice in indices:\n",
    "    X_validation,X_model = drop_columns(X_validation,indice), drop_columns(X_model,indice)\n"
   ]
  },
  {
   "cell_type": "code",
   "execution_count": 34,
   "metadata": {},
   "outputs": [
    {
     "name": "stdout",
     "output_type": "stream",
     "text": [
      "0\n",
      "training...\n"
     ]
    },
    {
     "name": "stderr",
     "output_type": "stream",
     "text": [
      "C:\\Users\\U000960\\AppData\\Local\\Continuum\\anaconda3\\lib\\site-packages\\sklearn\\model_selection\\_split.py:1978: FutureWarning: The default value of cv will change from 3 to 5 in version 0.22. Specify it explicitly to silence this warning.\n",
      "  warnings.warn(CV_WARNING, FutureWarning)\n",
      "C:\\Users\\U000960\\AppData\\Local\\Continuum\\anaconda3\\lib\\site-packages\\xgboost\\core.py:587: FutureWarning: Series.base is deprecated and will be removed in a future version\n",
      "  if getattr(data, 'base', None) is not None and \\\n"
     ]
    },
    {
     "name": "stdout",
     "output_type": "stream",
     "text": [
      "Predict...\n",
      "1\n",
      "training...\n"
     ]
    },
    {
     "name": "stderr",
     "output_type": "stream",
     "text": [
      "C:\\Users\\U000960\\AppData\\Local\\Continuum\\anaconda3\\lib\\site-packages\\sklearn\\model_selection\\_split.py:1978: FutureWarning: The default value of cv will change from 3 to 5 in version 0.22. Specify it explicitly to silence this warning.\n",
      "  warnings.warn(CV_WARNING, FutureWarning)\n",
      "C:\\Users\\U000960\\AppData\\Local\\Continuum\\anaconda3\\lib\\site-packages\\xgboost\\core.py:587: FutureWarning: Series.base is deprecated and will be removed in a future version\n",
      "  if getattr(data, 'base', None) is not None and \\\n"
     ]
    },
    {
     "name": "stdout",
     "output_type": "stream",
     "text": [
      "Predict...\n",
      "2\n",
      "training...\n"
     ]
    },
    {
     "name": "stderr",
     "output_type": "stream",
     "text": [
      "C:\\Users\\U000960\\AppData\\Local\\Continuum\\anaconda3\\lib\\site-packages\\sklearn\\model_selection\\_split.py:1978: FutureWarning: The default value of cv will change from 3 to 5 in version 0.22. Specify it explicitly to silence this warning.\n",
      "  warnings.warn(CV_WARNING, FutureWarning)\n",
      "C:\\Users\\U000960\\AppData\\Local\\Continuum\\anaconda3\\lib\\site-packages\\xgboost\\core.py:587: FutureWarning: Series.base is deprecated and will be removed in a future version\n",
      "  if getattr(data, 'base', None) is not None and \\\n"
     ]
    },
    {
     "name": "stdout",
     "output_type": "stream",
     "text": [
      "Predict...\n",
      "3\n",
      "training...\n"
     ]
    },
    {
     "name": "stderr",
     "output_type": "stream",
     "text": [
      "C:\\Users\\U000960\\AppData\\Local\\Continuum\\anaconda3\\lib\\site-packages\\sklearn\\model_selection\\_split.py:1978: FutureWarning: The default value of cv will change from 3 to 5 in version 0.22. Specify it explicitly to silence this warning.\n",
      "  warnings.warn(CV_WARNING, FutureWarning)\n",
      "C:\\Users\\U000960\\AppData\\Local\\Continuum\\anaconda3\\lib\\site-packages\\xgboost\\core.py:587: FutureWarning: Series.base is deprecated and will be removed in a future version\n",
      "  if getattr(data, 'base', None) is not None and \\\n"
     ]
    },
    {
     "name": "stdout",
     "output_type": "stream",
     "text": [
      "Predict...\n",
      "4\n",
      "training...\n"
     ]
    },
    {
     "name": "stderr",
     "output_type": "stream",
     "text": [
      "C:\\Users\\U000960\\AppData\\Local\\Continuum\\anaconda3\\lib\\site-packages\\sklearn\\model_selection\\_split.py:1978: FutureWarning: The default value of cv will change from 3 to 5 in version 0.22. Specify it explicitly to silence this warning.\n",
      "  warnings.warn(CV_WARNING, FutureWarning)\n",
      "C:\\Users\\U000960\\AppData\\Local\\Continuum\\anaconda3\\lib\\site-packages\\xgboost\\core.py:587: FutureWarning: Series.base is deprecated and will be removed in a future version\n",
      "  if getattr(data, 'base', None) is not None and \\\n"
     ]
    },
    {
     "name": "stdout",
     "output_type": "stream",
     "text": [
      "Predict...\n",
      "mse:  [4.0197558886527e-07, 9.245153846694814e-06, 1.2242588210477495e-05, 2.264828826680839e-06, 8.980057290782253e-06]\n",
      "valor médio:  6.6269207527001345e-06\n",
      "desvio padrão:  4.510119851211927e-06\n"
     ]
    }
   ],
   "source": [
    "nfolds = 5\n",
    "cv = ms.KFold(n_splits=nfolds,shuffle= False)\n",
    "estimators = []\n",
    "mses = []\n",
    "train_indexes = {}\n",
    "current_fold = 0\n",
    "\n",
    "\n",
    "for train_index, test_index in cv.split(X_model):\n",
    "    print(current_fold)\n",
    "    X_train, X_test = X.iloc[train_index], X.iloc[test_index]\n",
    "    y_train, y_test = Y.iloc[train_index], Y.iloc[test_index]\n",
    "    print(\"training...\")\n",
    "    clf.fit(X_train, y_train)\n",
    "    estimators.append(clf.best_estimator_)\n",
    "    print(\"Predict...\")\n",
    "    y_pred = clf.predict(X_test)\n",
    "    mses.append(mean_squared_error(y_test, y_pred))\n",
    "    current_fold+=1\n",
    "\n",
    "print('mse: ', mses )\n",
    "print('valor médio: ',np.mean(mses))\n",
    "print('desvio padrão: ',np.std(mses))    "
   ]
  },
  {
   "cell_type": "code",
   "execution_count": 36,
   "metadata": {},
   "outputs": [
    {
     "name": "stderr",
     "output_type": "stream",
     "text": [
      "C:\\Users\\U000960\\AppData\\Local\\Continuum\\anaconda3\\lib\\site-packages\\sklearn\\model_selection\\_split.py:1978: FutureWarning: The default value of cv will change from 3 to 5 in version 0.22. Specify it explicitly to silence this warning.\n",
      "  warnings.warn(CV_WARNING, FutureWarning)\n",
      "C:\\Users\\U000960\\AppData\\Local\\Continuum\\anaconda3\\lib\\site-packages\\xgboost\\core.py:587: FutureWarning: Series.base is deprecated and will be removed in a future version\n",
      "  if getattr(data, 'base', None) is not None and \\\n"
     ]
    },
    {
     "name": "stdout",
     "output_type": "stream",
     "text": [
      "Erro Médio Quadrático Final:  1.2178144461169644e-05\n"
     ]
    }
   ],
   "source": [
    "X_train, X_test = X_model, X_validation\n",
    "y_train, y_test = Y_model, Y_validation\n",
    "clf.fit(X_train, y_train)\n",
    "final_model = clf.best_estimator_\n",
    "y_pred = clf.predict(X_test)\n",
    "print('Erro Médio Quadrático Final: ', mean_squared_error(y_test, y_pred))"
   ]
  },
  {
   "cell_type": "code",
   "execution_count": 37,
   "metadata": {},
   "outputs": [
    {
     "data": {
      "text/html": [
       "<div>\n",
       "<style scoped>\n",
       "    .dataframe tbody tr th:only-of-type {\n",
       "        vertical-align: middle;\n",
       "    }\n",
       "\n",
       "    .dataframe tbody tr th {\n",
       "        vertical-align: top;\n",
       "    }\n",
       "\n",
       "    .dataframe thead th {\n",
       "        text-align: right;\n",
       "    }\n",
       "</style>\n",
       "<table border=\"1\" class=\"dataframe\">\n",
       "  <thead>\n",
       "    <tr style=\"text-align: right;\">\n",
       "      <th></th>\n",
       "      <th>feature</th>\n",
       "      <th>importance</th>\n",
       "    </tr>\n",
       "  </thead>\n",
       "  <tbody>\n",
       "    <tr>\n",
       "      <td>4</td>\n",
       "      <td>investmentConditions.performanceRate</td>\n",
       "      <td>0.0675962</td>\n",
       "    </tr>\n",
       "    <tr>\n",
       "      <td>1</td>\n",
       "      <td>netEquity</td>\n",
       "      <td>0.0583645</td>\n",
       "    </tr>\n",
       "    <tr>\n",
       "      <td>21</td>\n",
       "      <td>var_perc_dolar_d1</td>\n",
       "      <td>0.0560108</td>\n",
       "    </tr>\n",
       "    <tr>\n",
       "      <td>22</td>\n",
       "      <td>var_perc_dow_30_d5</td>\n",
       "      <td>0.0554835</td>\n",
       "    </tr>\n",
       "    <tr>\n",
       "      <td>36</td>\n",
       "      <td>var_perc_tx_cambio_d1</td>\n",
       "      <td>0.0503712</td>\n",
       "    </tr>\n",
       "    <tr>\n",
       "      <td>16</td>\n",
       "      <td>var_perc_bovespa_d1</td>\n",
       "      <td>0.0494163</td>\n",
       "    </tr>\n",
       "    <tr>\n",
       "      <td>3</td>\n",
       "      <td>investmentConditions.administrationRate</td>\n",
       "      <td>0.0466081</td>\n",
       "    </tr>\n",
       "    <tr>\n",
       "      <td>19</td>\n",
       "      <td>var_perc_dolar_d3</td>\n",
       "      <td>0.0462651</td>\n",
       "    </tr>\n",
       "    <tr>\n",
       "      <td>0</td>\n",
       "      <td>classifications.morningStar</td>\n",
       "      <td>0.0430372</td>\n",
       "    </tr>\n",
       "    <tr>\n",
       "      <td>33</td>\n",
       "      <td>var_perc_tx_cambio_d4</td>\n",
       "      <td>0.0413763</td>\n",
       "    </tr>\n",
       "  </tbody>\n",
       "</table>\n",
       "</div>"
      ],
      "text/plain": [
       "                                    feature importance\n",
       "4      investmentConditions.performanceRate  0.0675962\n",
       "1                                 netEquity  0.0583645\n",
       "21                        var_perc_dolar_d1  0.0560108\n",
       "22                       var_perc_dow_30_d5  0.0554835\n",
       "36                    var_perc_tx_cambio_d1  0.0503712\n",
       "16                      var_perc_bovespa_d1  0.0494163\n",
       "3   investmentConditions.administrationRate  0.0466081\n",
       "19                        var_perc_dolar_d3  0.0462651\n",
       "0               classifications.morningStar  0.0430372\n",
       "33                    var_perc_tx_cambio_d4  0.0413763"
      ]
     },
     "execution_count": 37,
     "metadata": {},
     "output_type": "execute_result"
    }
   ],
   "source": [
    "fts_importance = pd.DataFrame(data = np.transpose(np.array([X_model.columns , final_model.feature_importances_])),\n",
    "                              columns = ['feature','importance'])\n",
    "fts_importance = fts_importance.sort_values(by =  'importance' , ascending = False)\n",
    "fts_importance.head(10)"
   ]
  },
  {
   "cell_type": "code",
   "execution_count": 39,
   "metadata": {},
   "outputs": [
    {
     "data": {
      "image/png": "[encoded data removed]",
      "text/plain": [
       "<Figure size 576x684 with 2 Axes>"
      ]
     },
     "metadata": {
      "needs_background": "light"
     },
     "output_type": "display_data"
    }
   ],
   "source": [
    "test = X_validation.sample(frac=1)[1:5000]\n",
    "explainer = shap.TreeExplainer(final_model,feature_dependence='independent')\n",
    "shap_values = explainer.shap_values(test,approximate=True,tree_limit = 50)\n",
    "shap.summary_plot(shap_values, test)"
   ]
  },
  {
   "cell_type": "markdown",
   "metadata": {},
   "source": [
    "##### Em geral as variáveis em si não possuem muito pode explicativo. Os fundos de renda fixa tendem a ter uma baixa oscilação ao longo do tempo. de modo que não há grandes variações do valor da sua cota em um curto intervalo de tempo"
   ]
  }
 ],
 "metadata": {
  "kernelspec": {
   "display_name": "Python 3",
   "language": "python",
   "name": "python3"
  },
  "language_info": {
   "codemirror_mode": {
    "name": "ipython",
    "version": 3
   },
   "file_extension": ".py",
   "mimetype": "text/x-python",
   "name": "python",
   "nbconvert_exporter": "python",
   "pygments_lexer": "ipython3",
   "version": "3.7.4"
  }
 },
 "nbformat": 4,
 "nbformat_minor": 4
}
